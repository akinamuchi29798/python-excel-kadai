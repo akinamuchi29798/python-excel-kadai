{
  "nbformat": 4,
  "nbformat_minor": 0,
  "metadata": {
    "colab": {
      "provenance": []
    },
    "kernelspec": {
      "name": "python3",
      "display_name": "Python 3"
    },
    "language_info": {
      "name": "python"
    }
  },
  "cells": [
    {
      "cell_type": "code",
      "source": [
        "!pip install numpy==1.24.4 pandas==1.5.3 openpyxl==3.0.10"
      ],
      "metadata": {
        "colab": {
          "base_uri": "https://localhost:8080/"
        },
        "id": "aO2s82ZYHMRQ",
        "outputId": "094da496-5a6d-474d-84b4-bd531c9b154b"
      },
      "execution_count": 1,
      "outputs": [
        {
          "output_type": "stream",
          "name": "stdout",
          "text": [
            "Requirement already satisfied: numpy==1.24.4 in /usr/local/lib/python3.11/dist-packages (1.24.4)\n",
            "Requirement already satisfied: pandas==1.5.3 in /usr/local/lib/python3.11/dist-packages (1.5.3)\n",
            "Requirement already satisfied: openpyxl==3.0.10 in /usr/local/lib/python3.11/dist-packages (3.0.10)\n",
            "Requirement already satisfied: python-dateutil>=2.8.1 in /usr/local/lib/python3.11/dist-packages (from pandas==1.5.3) (2.9.0.post0)\n",
            "Requirement already satisfied: pytz>=2020.1 in /usr/local/lib/python3.11/dist-packages (from pandas==1.5.3) (2025.2)\n",
            "Requirement already satisfied: et-xmlfile in /usr/local/lib/python3.11/dist-packages (from openpyxl==3.0.10) (2.0.0)\n",
            "Requirement already satisfied: six>=1.5 in /usr/local/lib/python3.11/dist-packages (from python-dateutil>=2.8.1->pandas==1.5.3) (1.17.0)\n"
          ]
        }
      ]
    },
    {
      "cell_type": "code",
      "execution_count": 6,
      "metadata": {
        "colab": {
          "base_uri": "https://localhost:8080/"
        },
        "id": "TYM1SImyF0T2",
        "outputId": "3c3566c5-03dc-417e-ac25-4f35ba4cae96"
      },
      "outputs": [
        {
          "output_type": "stream",
          "name": "stdout",
          "text": [
            "売上集計表.xlsx に集計結果を書き込みました。\n"
          ]
        }
      ],
      "source": [
        "import pandas as pd\n",
        "\n",
        "# Excelファイルの読み込み\n",
        "df_2022 = pd.read_excel('2022_年間売上表.xlsx', sheet_name='Sheet1', engine='openpyxl')\n",
        "df_2023 = pd.read_excel('2023_年間売上表.xlsx', sheet_name='Sheet1', engine='openpyxl')\n",
        "\n",
        "# 売上年の列を追加\n",
        "df_2022['売上年'] = 2022\n",
        "df_2023['売上年'] = 2023\n",
        "\n",
        "# データの連結\n",
        "df_all = pd.concat([df_2022, df_2023], ignore_index=True)\n",
        "\n",
        "# 「商品」「売上年」でグループ化し、金額を合計\n",
        "df_summary = df_all.groupby(['商品', '売上年'])['金額（千円）'].sum().reset_index()\n",
        "\n",
        "# 新しいExcelファイルに書き込み\n",
        "df_summary.to_excel('売上集計表.xlsx', index=False)\n",
        "\n",
        "print(\"売上集計表.xlsx に集計結果を書き込みました。\")\n"
      ]
    }
  ]
}