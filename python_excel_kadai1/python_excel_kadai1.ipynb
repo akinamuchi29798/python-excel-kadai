{
  "nbformat": 4,
  "nbformat_minor": 0,
  "metadata": {
    "colab": {
      "provenance": []
    },
    "kernelspec": {
      "name": "python3",
      "display_name": "Python 3"
    },
    "language_info": {
      "name": "python"
    }
  },
  "cells": [
    {
      "cell_type": "code",
      "source": [
        "import openpyxl\n",
        "from openpyxl import Workbook\n",
        "from openpyxl.styles import Alignment\n",
        "from openpyxl.utils import get_column_letter\n",
        "from datetime import datetime\n",
        "\n",
        "# 商品データ\n",
        "products = [\n",
        "    [\"商品A\", 2, 10000],\n",
        "    [\"商品B\", 1, 15000]\n",
        "]\n",
        "\n",
        "# Excelファイルの作成\n",
        "wb = Workbook()\n",
        "ws = wb.active\n",
        "ws.title = \"請求書\"\n",
        "\n",
        "# 固定情報の入力\n",
        "ws[\"B2\"] = \"請求書\"\n",
        "ws[\"B4\"] = \"株式会社ABC\"\n",
        "ws[\"F4\"] = \"No.\"\n",
        "ws[\"G4\"] = \"0001\"\n",
        "ws[\"B5\"] = \"〒101-0022 東京都千代田区神田練塀町300\"\n",
        "ws[\"F5\"] = \"日付\"\n",
        "ws[\"G5\"] = datetime.today().strftime(\"%Y/%m/%d\")  # 今日の日付を設定\n",
        "ws[\"B6\"] = \"TEL：03-1234-5678 FAX：03-1234-5678\"\n",
        "ws[\"B7\"] = \"担当者名：鈴木一郎 様\"\n",
        "\n",
        "# 商品テーブルのヘッダー\n",
        "ws[\"B10\"] = \"商品名\"\n",
        "ws[\"C10\"] = \"数量\"\n",
        "ws[\"D10\"] = \"単価\"\n",
        "ws[\"E10\"] = \"金額\"\n",
        "\n",
        "# 商品データの入力\n",
        "total = 0\n",
        "for i, item in enumerate(products):\n",
        "    name, qty, price = item\n",
        "    amount = qty * price\n",
        "    total += amount\n",
        "    row = 11 + i\n",
        "    ws.cell(row=row, column=2, value=name)\n",
        "    ws.cell(row=row, column=3, value=qty)\n",
        "    ws.cell(row=row, column=4, value=price)\n",
        "    ws.cell(row=row, column=5, value=amount)\n",
        "\n",
        "# 小計、消費税、合計の計算と表示\n",
        "ws[\"E13\"] = total\n",
        "tax = int(total * 0.1)\n",
        "grand_total = total + tax\n",
        "ws[\"B15\"] = \"小計\"\n",
        "ws[\"E15\"] = total\n",
        "ws[\"B16\"] = \"消費税\"\n",
        "ws[\"E16\"] = tax\n",
        "ws[\"B17\"] = \"合計\"\n",
        "ws[\"E17\"] = grand_total\n",
        "\n",
        "#"
      ],
      "metadata": {
        "id": "9zaI01esxVsK"
      },
      "execution_count": null,
      "outputs": []
    }
  ]
}