{
  "nbformat": 4,
  "nbformat_minor": 0,
  "metadata": {
    "colab": {
      "provenance": []
    },
    "kernelspec": {
      "name": "python3",
      "display_name": "Python 3"
    },
    "language_info": {
      "name": "python"
    }
  },
  "cells": [
    {
      "cell_type": "code",
      "source": [
        "import pandas as pd\n",
        "\n",
        "# 元データの作成\n",
        "data = {\n",
        "    '日付': ['2023-05-17', '2023-05-18', '2023-05-19', '2023-05-20', '2023-05-21'],\n",
        "    '社員名': ['山田', '佐藤', '鈴木', '田中', '高橋'],\n",
        "    '売上': [100, 200, 150, 300, 250],\n",
        "    '部門': ['メーカー', '代理店', 'メーカー', '商社', '代理店']\n",
        "}\n",
        "\n",
        "df = pd.DataFrame(data)\n",
        "\n",
        "# 平均売上の計算と列の追加\n",
        "average_sales = df['売上'].mean()\n",
        "df['平均売上'] = average_sales\n",
        "\n",
        "# 業績ランクを判定する関数\n",
        "def performance(sales, avg):\n",
        "    if sales >= avg + 50:\n",
        "        return 'A'\n",
        "    elif avg <= sales < avg + 50:\n",
        "        return 'B'\n",
        "    else:\n",
        "        return 'C'\n",
        "\n",
        "# 業績ランク列の追加\n",
        "df['業績ランク'] = df['売上'].apply(lambda x: performance(x, average_sales))\n",
        "\n",
        "# Excelファイルに書き出し\n",
        "df.to_excel('業績.xlsx', index=False)\n"
      ],
      "metadata": {
        "id": "uJBkrTxzt4nW"
      },
      "execution_count": 2,
      "outputs": []
    }
  ]
}